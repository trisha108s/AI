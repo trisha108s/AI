{
 "cells": [
  {
   "cell_type": "code",
   "execution_count": 1,
   "id": "418dbec6-772d-4b23-ab85-8e74c0d7d73e",
   "metadata": {},
   "outputs": [
    {
     "name": "stdout",
     "output_type": "stream",
     "text": [
      "Hello! I'm your friendly chatbot. How can I help you today? Type 'exit' to end the conversation.\n"
     ]
    },
    {
     "name": "stdin",
     "output_type": "stream",
     "text": [
      "You:  exit\n"
     ]
    },
    {
     "name": "stdout",
     "output_type": "stream",
     "text": [
      "Chatbot: Goodbye! Have a wonderful day!\n"
     ]
    }
   ],
   "source": [
    "def chatbot():\n",
    "    print(\"Hello! I'm your friendly chatbot. How can I help you today? Type 'exit' to end the conversation.\")\n",
    "\n",
    "    while True:\n",
    "        user_input = input(\"You: \").lower()  \n",
    "\n",
    "        if 'hello' in user_input or 'hi' in user_input:\n",
    "            print(\"Chatbot: Hi there! How can I assist you?\")\n",
    "        \n",
    "        elif 'how are you' in user_input:\n",
    "            print(\"Chatbot: I'm doing well, thank you for asking! How about you?\")\n",
    "        \n",
    "        elif 'what is your name' in user_input:\n",
    "            print(\"Chatbot: I am a chatbot, created to help you!\")\n",
    "        \n",
    "        elif 'bye' in user_input or 'exit' in user_input:\n",
    "            print(\"Chatbot: Goodbye! Have a wonderful day!\")\n",
    "            break\n",
    "        \n",
    "        elif 'help' in user_input:\n",
    "            print(\"Chatbot: Sure! You can ask me about the weather, time, or just have a chat.\")\n",
    "        \n",
    "        elif 'weather' in user_input:\n",
    "            print(\"Chatbot: I don't have live weather data, but I hope it's sunny where you are!\")\n",
    "        \n",
    "        elif 'time' in user_input:\n",
    "            from datetime import datetime\n",
    "            now = datetime.now()\n",
    "            current_time = now.strftime(\"%H:%M:%S\")\n",
    "            print(f\"Chatbot: The current time is {current_time}.\")\n",
    "        \n",
    "        elif 'tell me a joke' in user_input:\n",
    "            print(\"Chatbot: Why don't skeletons fight each other? They don't have the guts!\")\n",
    "        \n",
    "        else:\n",
    "            print(\"Chatbot: Sorry, I didn't understand that. Can you ask something else?\")\n",
    "\n",
    "chatbot()\n"
   ]
  },
  {
   "cell_type": "code",
   "execution_count": 23,
   "id": "2e15f7ff-131c-45a7-944c-9e091c756c42",
   "metadata": {},
   "outputs": [
    {
     "name": "stdout",
     "output_type": "stream",
     "text": [
      "Least_cost path from A to Z:['A', 'C', 'D', 'E', 'Z']\n",
      "Total cost:17\n"
     ]
    }
   ],
   "source": [
    "import heapq\n",
    "def uniform_cost_search(graph,start,goal):\n",
    "    priority_queue=[(0,start,[])]\n",
    "    visited=set()\n",
    "    while priority_queue:\n",
    "        cost,node,path=heapq.heappop(priority_queue)\n",
    "        if node in visited:\n",
    "            continue\n",
    "        path=path+[node]\n",
    "        visited.add(node)\n",
    "\n",
    "        if node==goal:\n",
    "            return cost,path\n",
    "\n",
    "        for neighbor,edge_cost in graph.get(node,[]):\n",
    "            if neighbor not in visited:\n",
    "                heapq.heappush(priority_queue,(cost+edge_cost,neighbor,path))\n",
    "    return float('inf'),[]\n",
    "graph={\n",
    "    'A':[('B',4),('C',3)],\n",
    "    'B':[('F',5),('E',12)],\n",
    "    'C':[('E',10),('D',7)],\n",
    "    'D':[('E',2)],\n",
    "    'E':[('Z',5)],\n",
    "    'F':[('Z',16)],\n",
    "}\n",
    "\n",
    "start_node='A'\n",
    "goal_node='Z'\n",
    "cost,path=uniform_cost_search(graph,start_node,goal_node)\n",
    "print(f\"Least_cost path from {start_node} to {goal_node}:{path}\")\n",
    "\n",
    "print(f\"Total cost:{cost}\")"
   ]
  },
  {
   "cell_type": "code",
   "execution_count": 31,
   "id": "fabdf717-d909-4350-86d6-448bacd93e35",
   "metadata": {},
   "outputs": [
    {
     "name": "stdout",
     "output_type": "stream",
     "text": [
      "Chatbot: Hi! How can I help you today? (Type 'exit' to end the chat.)\n"
     ]
    },
    {
     "name": "stdin",
     "output_type": "stream",
     "text": [
      "You:  exit\n"
     ]
    },
    {
     "name": "stdout",
     "output_type": "stream",
     "text": [
      "Chatbot: Goodbye! Have a wonderful day!\n"
     ]
    }
   ],
   "source": [
    "import random\n",
    "import time\n",
    "def chatbot():\n",
    "    print(\"Chatbot: Hi! How can I help you today? (Type 'exit' to end the chat.)\")\n",
    "    \n",
    "    while True:\n",
    "        user_input = input(\"You: \").lower()\n",
    "\n",
    "        if user_input == 'hi' or user_input == 'hello':\n",
    "            print(\"Chatbot: Hello! How are you?\")\n",
    "        \n",
    "        elif 'how are you' in user_input:\n",
    "            print(\"Chatbot: I'm just a bot, but I'm doing fine. How about you?\")\n",
    "        \n",
    "        elif user_input == 'exit':\n",
    "            print(\"Chatbot: Goodbye! Have a wonderful day!\")\n",
    "            break\n",
    "        \n",
    "        else:\n",
    "            print(\"Chatbot: I didn't quite understand that. Can you say 'Hi' or 'How are you'?\")\n",
    "        \n",
    "chatbot()\n"
   ]
  },
  {
   "cell_type": "code",
   "execution_count": 33,
   "id": "7430d13b-3af8-48b9-9b78-5712a9223bf6",
   "metadata": {},
   "outputs": [
    {
     "name": "stdout",
     "output_type": "stream",
     "text": [
      "Chatbot: Hi! How can I help you today? (Type 'exit' to end the chat.)\n"
     ]
    },
    {
     "name": "stdin",
     "output_type": "stream",
     "text": [
      "You:  hello\n"
     ]
    },
    {
     "name": "stdout",
     "output_type": "stream",
     "text": [
      "Chatbot: Hello! How are you?\n"
     ]
    },
    {
     "name": "stdin",
     "output_type": "stream",
     "text": [
      "You:  good bye\n"
     ]
    },
    {
     "name": "stdout",
     "output_type": "stream",
     "text": [
      "Chatbot: I didn't quite understand that. Can you say 'Hi' or 'How are you'?\n"
     ]
    },
    {
     "name": "stdin",
     "output_type": "stream",
     "text": [
      "You:  how are you?\n"
     ]
    },
    {
     "name": "stdout",
     "output_type": "stream",
     "text": [
      "Chatbot: I'm just a bot, but I'm doing fine. How about you?\n"
     ]
    },
    {
     "name": "stdin",
     "output_type": "stream",
     "text": [
      "You:  hello, how life is going?\n"
     ]
    },
    {
     "name": "stdout",
     "output_type": "stream",
     "text": [
      "Chatbot: I didn't quite understand that. Can you say 'Hi' or 'How are you'?\n"
     ]
    },
    {
     "name": "stdin",
     "output_type": "stream",
     "text": [
      "You:  hi\n"
     ]
    },
    {
     "name": "stdout",
     "output_type": "stream",
     "text": [
      "Chatbot: Hello! How are you?\n"
     ]
    },
    {
     "name": "stdin",
     "output_type": "stream",
     "text": [
      "You:  iam fine,what about you?\n"
     ]
    },
    {
     "name": "stdout",
     "output_type": "stream",
     "text": [
      "Chatbot: I didn't quite understand that. Can you say 'Hi' or 'How are you'?\n"
     ]
    },
    {
     "name": "stdin",
     "output_type": "stream",
     "text": [
      "You:  exit\n"
     ]
    },
    {
     "name": "stdout",
     "output_type": "stream",
     "text": [
      "Chatbot: Goodbye! Have a wonderful day!\n"
     ]
    }
   ],
   "source": [
    "import random\n",
    "import time\n",
    "def chatbot():\n",
    "    print(\"Chatbot: Hi! How can I help you today? (Type 'exit' to end the chat.)\")\n",
    "    \n",
    "    while True:\n",
    "        user_input = input(\"You: \").lower()\n",
    "\n",
    "        if user_input == 'hi' or user_input == 'hello':\n",
    "            print(\"Chatbot: Hello! How are you?\")\n",
    "        \n",
    "        elif 'how are you' in user_input:\n",
    "            print(\"Chatbot: I'm just a bot, but I'm doing fine. How about you?\")\n",
    "        \n",
    "        elif user_input == 'exit':\n",
    "            print(\"Chatbot: Goodbye! Have a wonderful day!\")\n",
    "            break\n",
    "        \n",
    "        else:\n",
    "            print(\"Chatbot: I didn't quite understand that. Can you say 'Hi' or 'How are you'?\")\n",
    "        \n",
    "chatbot()\n"
   ]
  },
  {
   "cell_type": "code",
   "execution_count": 41,
   "id": "6181f4dc-698b-4af5-a2e4-b53720633849",
   "metadata": {},
   "outputs": [
    {
     "name": "stdout",
     "output_type": "stream",
     "text": [
      "Hello! I am your friendly chatbot. Type 'exit' to end the conversation.\n"
     ]
    },
    {
     "name": "stdin",
     "output_type": "stream",
     "text": [
      "You:  Hi, \n"
     ]
    },
    {
     "name": "stdout",
     "output_type": "stream",
     "text": [
      "Chatbot: Greetings!\n"
     ]
    },
    {
     "name": "stdin",
     "output_type": "stream",
     "text": [
      "You:  hello!\n"
     ]
    },
    {
     "name": "stdout",
     "output_type": "stream",
     "text": [
      "Chatbot: Hey!\n"
     ]
    },
    {
     "name": "stdin",
     "output_type": "stream",
     "text": [
      "You:  hi, how are you?\n"
     ]
    },
    {
     "name": "stdout",
     "output_type": "stream",
     "text": [
      "Chatbot: Hey!\n"
     ]
    },
    {
     "name": "stdin",
     "output_type": "stream",
     "text": [
      "You:  how are you\n"
     ]
    },
    {
     "name": "stdout",
     "output_type": "stream",
     "text": [
      "Chatbot: I'm just a bot, but I'm doing fine. Thanks for asking!\n"
     ]
    },
    {
     "name": "stdin",
     "output_type": "stream",
     "text": [
      "You:  my pleasure!\n"
     ]
    },
    {
     "name": "stdout",
     "output_type": "stream",
     "text": [
      "Chatbot: I'm sorry, I don't understand that. Can you ask something else?\n"
     ]
    },
    {
     "name": "stdin",
     "output_type": "stream",
     "text": [
      "You:  can I know what is your name\n"
     ]
    },
    {
     "name": "stdout",
     "output_type": "stream",
     "text": [
      "Chatbot: My name is Chatbot!\n"
     ]
    },
    {
     "name": "stdin",
     "output_type": "stream",
     "text": [
      "You:  can you tell me any joke?\n"
     ]
    },
    {
     "name": "stdout",
     "output_type": "stream",
     "text": [
      "Chatbot: I'm sorry, I don't understand that. Can you ask something else?\n"
     ]
    },
    {
     "name": "stdin",
     "output_type": "stream",
     "text": [
      "You:  tell me a joke\n"
     ]
    },
    {
     "name": "stdout",
     "output_type": "stream",
     "text": [
      "Chatbot: Why don't programmers like nature? It has too many bugs!\n"
     ]
    },
    {
     "name": "stdin",
     "output_type": "stream",
     "text": [
      "You:  can you what is the time now\n"
     ]
    },
    {
     "name": "stdout",
     "output_type": "stream",
     "text": [
      "Chatbot: The current time is 09:45:01.\n"
     ]
    },
    {
     "name": "stdin",
     "output_type": "stream",
     "text": [
      "You:  what kind of weather here \n"
     ]
    },
    {
     "name": "stdout",
     "output_type": "stream",
     "text": [
      "Chatbot: I don't know the weather, but I hope it's nice outside!\n"
     ]
    },
    {
     "name": "stdin",
     "output_type": "stream",
     "text": [
      "You:  exit\n"
     ]
    },
    {
     "name": "stdout",
     "output_type": "stream",
     "text": [
      "Chatbot: Goodbye! Have a nice day!\n"
     ]
    }
   ],
   "source": [
    "import random\n",
    "import time\n",
    "\n",
    "def chatbot():\n",
    "    print(\"Hello! I am your friendly chatbot. Type 'exit' to end the conversation.\")\n",
    "    time.sleep(1)\n",
    "    \n",
    "    greetings = [\"Hello!\", \"Hi there!\", \"Hey!\", \"Greetings!\"]\n",
    "    responses = {\n",
    "        'how are you': \"I'm just a bot, but I'm doing well. Thanks for asking!\",\n",
    "        'what is your name': \"I'm Chatbot, your friendly assistant.\",\n",
    "        'tell me a joke': \"Why don't programmers like nature? It has too many bugs!\",\n",
    "        'weather': \"I don't know the weather, but I hope it's nice outside!\",\n",
    "        'time': time.strftime(\"%H:%M:%S\"),\n",
    "    }\n",
    "    \n",
    "    while True:\n",
    "        user_input = input(\"You: \").lower()  \n",
    "        \n",
    "        if user_input == 'exit':\n",
    "            print(\"Chatbot: Goodbye! Have a nice day!\")\n",
    "            break\n",
    "        \n",
    "        elif any(greeting in user_input for greeting in ['hello', 'hi', 'hey', 'greetings']):\n",
    "            print(f\"Chatbot: {random.choice(greetings)}\")\n",
    "        \n",
    "        elif 'how are you' in user_input:\n",
    "            print(\"Chatbot: I'm just a bot, but I'm doing fine. Thanks for asking!\")\n",
    "        \n",
    "        elif 'what is your name' in user_input:\n",
    "            print(\"Chatbot: My name is Chatbot!\")\n",
    "        \n",
    "        elif 'time' in user_input:\n",
    "            current_time = time.strftime(\"%H:%M:%S\")\n",
    "            print(f\"Chatbot: The current time is {current_time}.\")\n",
    "        \n",
    "        elif 'tell me a joke' in user_input:\n",
    "            print(f\"Chatbot: {responses['tell me a joke']}\")\n",
    "        \n",
    "        elif 'weather' in user_input:\n",
    "            print(f\"Chatbot: {responses['weather']}\")\n",
    "        \n",
    "        else:\n",
    "            print(\"Chatbot: I'm sorry, I don't understand that. Can you ask something else?\")\n",
    "\n",
    "chatbot()\n"
   ]
  },
  {
   "cell_type": "code",
   "execution_count": 49,
   "id": "aa40a7a4-c084-46b2-9425-69d5f95f635b",
   "metadata": {},
   "outputs": [
    {
     "name": "stdout",
     "output_type": "stream",
     "text": [
      "Chatbot: Hi there! What’s your name?\n"
     ]
    },
    {
     "name": "stdin",
     "output_type": "stream",
     "text": [
      "You:  Trisha\n"
     ]
    },
    {
     "name": "stdout",
     "output_type": "stream",
     "text": [
      "Chatbot: Nice to meet you, Trisha! 😊\n"
     ]
    },
    {
     "name": "stdin",
     "output_type": "stream",
     "text": [
      "Trisha:  what is your name?\n"
     ]
    },
    {
     "name": "stdout",
     "output_type": "stream",
     "text": [
      "Chatbot: Hmm, I didn't quite catch that. Can you tell me more about how life is going? 😊\n"
     ]
    },
    {
     "name": "stdin",
     "output_type": "stream",
     "text": [
      "Trisha:  life is too boaring ,what about your life\n"
     ]
    },
    {
     "name": "stdout",
     "output_type": "stream",
     "text": [
      "Chatbot: That's great to hear, Trisha! Life has its ups and downs, but it’s all about enjoying the ride. 😊\n"
     ]
    },
    {
     "name": "stdin",
     "output_type": "stream",
     "text": [
      "Trisha:  how is your life going?\n"
     ]
    },
    {
     "name": "stdout",
     "output_type": "stream",
     "text": [
      "Chatbot: Hmm, I didn't quite catch that. Can you tell me more about how life is going? 😊\n"
     ]
    },
    {
     "name": "stdin",
     "output_type": "stream",
     "text": [
      "Trisha:  my life is like every day I feel too lonely \n"
     ]
    },
    {
     "name": "stdout",
     "output_type": "stream",
     "text": [
      "Chatbot: That's great to hear, Trisha! Life has its ups and downs, but it’s all about enjoying the ride. 😊\n"
     ]
    },
    {
     "name": "stdin",
     "output_type": "stream",
     "text": [
      "Trisha:  what is your name\n"
     ]
    },
    {
     "name": "stdout",
     "output_type": "stream",
     "text": [
      "Chatbot: Hmm, I didn't quite catch that. Can you tell me more about how life is going? 😊\n"
     ]
    },
    {
     "name": "stdin",
     "output_type": "stream",
     "text": [
      "Trisha:  exit\n"
     ]
    },
    {
     "name": "stdout",
     "output_type": "stream",
     "text": [
      "Chatbot: Alright Trisha, goodbye! Take care and stay positive! 😊\n"
     ]
    }
   ],
   "source": [
    "import random\n",
    "import time\n",
    "\n",
    "def chatbot():\n",
    "    print(\"Chatbot: Hi there! What’s your name?\")\n",
    "    user_name = input(\"You: \") \n",
    "    \n",
    "    print(f\"Chatbot: Nice to meet you, {user_name}! 😊\")\n",
    "\n",
    "    while True:\n",
    "        user_input = input(f\"{user_name}: \").lower()  \n",
    "\n",
    "        if 'hi' in user_input or 'hello' in user_input:\n",
    "            print(f\"Chatbot: Hello {user_name}! How’s life going? 😊\")\n",
    "        \n",
    "        elif 'how are you' in user_input or 'how are you doing' in user_input:\n",
    "            print(\"Chatbot: I'm just a bot, but I'm doing great! How about you? How's life treating you?\")\n",
    "        \n",
    "        elif \"how's life\" in user_input or \"how is life\" in user_input:\n",
    "            print(f\"Chatbot: Life is good! But I'm curious, how's life for you, {user_name}?\")\n",
    "        \n",
    "        elif 'life is' in user_input:\n",
    "            print(f\"Chatbot: That's great to hear, {user_name}! Life has its ups and downs, but it’s all about enjoying the ride. 😊\")\n",
    "        \n",
    "        elif 'feeling' in user_input or 'mood' in user_input:\n",
    "            print(f\"Chatbot: I hope you're feeling amazing today, {user_name}! 😊 If not, remember that it's okay to have tough days too.\")\n",
    "\n",
    "        elif 'exit' in user_input or 'bye' in user_input:\n",
    "            print(f\"Chatbot: Alright {user_name}, goodbye! Take care and stay positive! 😊\")\n",
    "            break\n",
    "        \n",
    "        else:\n",
    "            print(\"Chatbot: Hmm, I didn't quite catch that. Can you tell me more about how life is going? 😊\")\n",
    "\n",
    "chatbot()\n"
   ]
  },
  {
   "cell_type": "code",
   "execution_count": null,
   "id": "8cb115b7-31db-4d6a-8943-730f82027766",
   "metadata": {},
   "outputs": [],
   "source": [
    "import random\n",
    "import time\n",
    "\n",
    "def chatbot():\n",
    "    print(\"Chatbot: Hello! I can chat with you about languages. What's your name?\")\n",
    "    user_name = input(\"You: \")  \n",
    "    \n",
    "    print(f\"Chatbot: Nice to meet you, {user_name}! Let's talk about languages.\")\n",
    "\n",
    "    while True:\n",
    "        user_input = input(f\"{user_name}: \").lower()  \n",
    "\n",
    "        if 'hi' in user_input or 'hello' in user_input:\n",
    "            print(f\"Chatbot: Hello {user_name}! Do you speak multiple languages?\")\n",
    "\n",
    "        elif 'what languages do you speak' in user_input:\n",
    "            print(\"Chatbot: I can talk about many languages, but I mostly communicate in English. \")\n",
    "\n",
    "        elif 'what is your favorite language' in user_input:\n",
    "            print(\"Chatbot: I don't have favorites, but I think every language is beautiful in its own way!\")\n",
    "\n",
    "        elif 'what is the most spoken language' in user_input:\n",
    "            print(\"Chatbot: The most spoken language in the world is English, followed by Mandarin Chinese and Spanish.\")\n",
    "\n",
    "        elif 'how to learn a language' in user_input:\n",
    "            print(f\"Chatbot: To learn a language, try starting with basics like common phrases and vocabulary. Practice is key! {user_name}.\")\n",
    "\n",
    "        elif 'bonjour' in user_input or 'salut' in user_input:  \n",
    "            print(\"Chatbot: Bonjour! Comment ça va? (Hello! How are you?)\")\n",
    "        \n",
    "        elif 'hola' in user_input:  \n",
    "            print(\"Chatbot: ¡Hola! ¿Cómo estás? (Hello! How are you?)\")\n",
    "        \n",
    "        elif 'ciao' in user_input:  \n",
    "            print(\"Chatbot: Ciao! Come stai? (Hello! How are you?)\")\n",
    "        \n",
    "        elif 'namaste' in user_input: \n",
    "            print(\"Chatbot: Namaste! Kaise ho? (Hello! How are you?)\")\n",
    "\n",
    "        elif 'exit' in user_input or 'bye' in user_input:\n",
    "            print(f\"Chatbot: Goodbye {user_name}! Take care and keep learning languages! \")\n",
    "            break\n",
    "\n",
    "        else:\n",
    "            print(\"Chatbot: I'm sorry, I didn't quite understand that. Can you ask me more about languages?\")\n",
    "\n",
    "chatbot()\n"
   ]
  },
  {
   "cell_type": "code",
   "execution_count": null,
   "id": "05b84cec-dd97-47b6-9fcb-afa34877b77e",
   "metadata": {},
   "outputs": [],
   "source": []
  }
 ],
 "metadata": {
  "kernelspec": {
   "display_name": "Python 3 (ipykernel)",
   "language": "python",
   "name": "python3"
  },
  "language_info": {
   "codemirror_mode": {
    "name": "ipython",
    "version": 3
   },
   "file_extension": ".py",
   "mimetype": "text/x-python",
   "name": "python",
   "nbconvert_exporter": "python",
   "pygments_lexer": "ipython3",
   "version": "3.12.7"
  }
 },
 "nbformat": 4,
 "nbformat_minor": 5
}
