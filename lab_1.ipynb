{
 "cells": [
  {
   "cell_type": "code",
   "execution_count": 13,
   "id": "d4252cd6-00b0-4bb2-a937-84fa59f7d60b",
   "metadata": {},
   "outputs": [
    {
     "name": "stdout",
     "output_type": "stream",
     "text": [
      "('a', 111, 'b')\n",
      "<class 'tuple'>\n",
      "<class 'tuple'>\n"
     ]
    }
   ],
   "source": [
    "t=('a',111,'b')\n",
    "print(t)\n",
    "t=()\n",
    "print(type(t))\n",
    "t1=tuple()\n",
    "print(type(t1))\n"
   ]
  },
  {
   "cell_type": "code",
   "execution_count": 9,
   "id": "24d488ba-5514-456d-a245-91f1b05f674f",
   "metadata": {},
   "outputs": [
    {
     "name": "stdout",
     "output_type": "stream",
     "text": [
      "e\n"
     ]
    }
   ],
   "source": [
    "t=(\"a\",\"b\",\"c\",\"d\",\"e\")\n",
    "print(t[-1])"
   ]
  },
  {
   "cell_type": "code",
   "execution_count": 11,
   "id": "4169b6ef-4607-4f47-9ef3-38ce55587466",
   "metadata": {},
   "outputs": [
    {
     "name": "stdout",
     "output_type": "stream",
     "text": [
      "eng\n",
      "kan\n",
      "tam\n"
     ]
    }
   ],
   "source": [
    "lan=('eng','kan','tam')\n",
    "for i in lan:\n",
    "    print(i)\n"
   ]
  },
  {
   "cell_type": "code",
   "execution_count": 15,
   "id": "4d37d155-98a7-4f65-8f37-7fc52791be4a",
   "metadata": {},
   "outputs": [
    {
     "name": "stdout",
     "output_type": "stream",
     "text": [
      "Factorial of  2  is  2\n",
      "Factorial of  3  is  6\n",
      "Factorial of  4  is  24\n",
      "Factorial of  5  is  120\n",
      "Factorial of  6  is  720\n",
      "Factorial of  7  is  5040\n"
     ]
    }
   ],
   "source": [
    "t=(2,3,4,5,6,7)\n",
    "def fact(n):\n",
    "    f=1\n",
    "    for i in range(1,n+1):\n",
    "        f*=i\n",
    "    return f\n",
    "for i in t:\n",
    "    print(\"Factorial of \",i,\" is \",fact(i))\n"
   ]
  },
  {
   "cell_type": "code",
   "execution_count": 51,
   "id": "b508f17f-6b3c-4613-b9b2-5290c48c6eac",
   "metadata": {},
   "outputs": [
    {
     "name": "stdin",
     "output_type": "stream",
     "text": [
      "Enter upto num:  15\n"
     ]
    },
    {
     "name": "stdout",
     "output_type": "stream",
     "text": [
      "______________________\n",
      "15 X 1 = 15\n",
      "15 X 2 = 30\n",
      "15 X 3 = 45\n",
      "15 X 4 = 60\n",
      "15 X 5 = 75\n",
      "15 X 6 = 90\n",
      "15 X 7 = 105\n",
      "15 X 8 = 120\n",
      "15 X 9 = 135\n",
      "15 X 10 = 150\n",
      "15 X 11 = 165\n",
      "15 X 12 = 180\n",
      "15 X 13 = 195\n",
      "15 X 14 = 210\n",
      "15 X 15 = 225\n",
      "15 X 1 = 15\n",
      "15 X 2 = 30\n",
      "15 X 3 = 45\n",
      "15 X 4 = 60\n",
      "15 X 5 = 75\n",
      "15 X 6 = 90\n",
      "15 X 7 = 105\n",
      "15 X 8 = 120\n",
      "15 X 9 = 135\n",
      "15 X 10 = 150\n",
      "15 X 11 = 165\n",
      "15 X 12 = 180\n",
      "15 X 13 = 195\n",
      "15 X 14 = 210\n",
      "15 X 15 = 225\n",
      "15 X 1 = 15\n",
      "15 X 2 = 30\n",
      "15 X 3 = 45\n",
      "15 X 4 = 60\n",
      "15 X 5 = 75\n",
      "15 X 6 = 90\n",
      "15 X 7 = 105\n",
      "15 X 8 = 120\n",
      "15 X 9 = 135\n",
      "15 X 10 = 150\n",
      "15 X 11 = 165\n",
      "15 X 12 = 180\n",
      "15 X 13 = 195\n",
      "15 X 14 = 210\n",
      "15 X 15 = 225\n",
      "15 X 1 = 15\n",
      "15 X 2 = 30\n",
      "15 X 3 = 45\n",
      "15 X 4 = 60\n",
      "15 X 5 = 75\n",
      "15 X 6 = 90\n",
      "15 X 7 = 105\n",
      "15 X 8 = 120\n",
      "15 X 9 = 135\n",
      "15 X 10 = 150\n",
      "15 X 11 = 165\n",
      "15 X 12 = 180\n",
      "15 X 13 = 195\n",
      "15 X 14 = 210\n",
      "15 X 15 = 225\n",
      "15 X 1 = 15\n",
      "15 X 2 = 30\n",
      "15 X 3 = 45\n",
      "15 X 4 = 60\n",
      "15 X 5 = 75\n",
      "15 X 6 = 90\n",
      "15 X 7 = 105\n",
      "15 X 8 = 120\n",
      "15 X 9 = 135\n",
      "15 X 10 = 150\n",
      "15 X 11 = 165\n",
      "15 X 12 = 180\n",
      "15 X 13 = 195\n",
      "15 X 14 = 210\n",
      "15 X 15 = 225\n",
      "15 X 1 = 15\n",
      "15 X 2 = 30\n",
      "15 X 3 = 45\n",
      "15 X 4 = 60\n",
      "15 X 5 = 75\n",
      "15 X 6 = 90\n",
      "15 X 7 = 105\n",
      "15 X 8 = 120\n",
      "15 X 9 = 135\n",
      "15 X 10 = 150\n",
      "15 X 11 = 165\n",
      "15 X 12 = 180\n",
      "15 X 13 = 195\n",
      "15 X 14 = 210\n",
      "15 X 15 = 225\n",
      "15 X 1 = 15\n",
      "15 X 2 = 30\n",
      "15 X 3 = 45\n",
      "15 X 4 = 60\n",
      "15 X 5 = 75\n",
      "15 X 6 = 90\n",
      "15 X 7 = 105\n",
      "15 X 8 = 120\n",
      "15 X 9 = 135\n",
      "15 X 10 = 150\n",
      "15 X 11 = 165\n",
      "15 X 12 = 180\n",
      "15 X 13 = 195\n",
      "15 X 14 = 210\n",
      "15 X 15 = 225\n",
      "15 X 1 = 15\n",
      "15 X 2 = 30\n",
      "15 X 3 = 45\n",
      "15 X 4 = 60\n",
      "15 X 5 = 75\n",
      "15 X 6 = 90\n",
      "15 X 7 = 105\n",
      "15 X 8 = 120\n",
      "15 X 9 = 135\n",
      "15 X 10 = 150\n",
      "15 X 11 = 165\n",
      "15 X 12 = 180\n",
      "15 X 13 = 195\n",
      "15 X 14 = 210\n",
      "15 X 15 = 225\n",
      "15 X 1 = 15\n",
      "15 X 2 = 30\n",
      "15 X 3 = 45\n",
      "15 X 4 = 60\n",
      "15 X 5 = 75\n",
      "15 X 6 = 90\n",
      "15 X 7 = 105\n",
      "15 X 8 = 120\n",
      "15 X 9 = 135\n",
      "15 X 10 = 150\n",
      "15 X 11 = 165\n",
      "15 X 12 = 180\n",
      "15 X 13 = 195\n",
      "15 X 14 = 210\n",
      "15 X 15 = 225\n",
      "15 X 1 = 15\n",
      "15 X 2 = 30\n",
      "15 X 3 = 45\n",
      "15 X 4 = 60\n",
      "15 X 5 = 75\n",
      "15 X 6 = 90\n",
      "15 X 7 = 105\n",
      "15 X 8 = 120\n",
      "15 X 9 = 135\n",
      "15 X 10 = 150\n",
      "15 X 11 = 165\n",
      "15 X 12 = 180\n",
      "15 X 13 = 195\n",
      "15 X 14 = 210\n",
      "15 X 15 = 225\n",
      "15 X 1 = 15\n",
      "15 X 2 = 30\n",
      "15 X 3 = 45\n",
      "15 X 4 = 60\n",
      "15 X 5 = 75\n",
      "15 X 6 = 90\n",
      "15 X 7 = 105\n",
      "15 X 8 = 120\n",
      "15 X 9 = 135\n",
      "15 X 10 = 150\n",
      "15 X 11 = 165\n",
      "15 X 12 = 180\n",
      "15 X 13 = 195\n",
      "15 X 14 = 210\n",
      "15 X 15 = 225\n",
      "15 X 1 = 15\n",
      "15 X 2 = 30\n",
      "15 X 3 = 45\n",
      "15 X 4 = 60\n",
      "15 X 5 = 75\n",
      "15 X 6 = 90\n",
      "15 X 7 = 105\n",
      "15 X 8 = 120\n",
      "15 X 9 = 135\n",
      "15 X 10 = 150\n",
      "15 X 11 = 165\n",
      "15 X 12 = 180\n",
      "15 X 13 = 195\n",
      "15 X 14 = 210\n",
      "15 X 15 = 225\n",
      "15 X 1 = 15\n",
      "15 X 2 = 30\n",
      "15 X 3 = 45\n",
      "15 X 4 = 60\n",
      "15 X 5 = 75\n",
      "15 X 6 = 90\n",
      "15 X 7 = 105\n",
      "15 X 8 = 120\n",
      "15 X 9 = 135\n",
      "15 X 10 = 150\n",
      "15 X 11 = 165\n",
      "15 X 12 = 180\n",
      "15 X 13 = 195\n",
      "15 X 14 = 210\n",
      "15 X 15 = 225\n",
      "15 X 1 = 15\n",
      "15 X 2 = 30\n",
      "15 X 3 = 45\n",
      "15 X 4 = 60\n",
      "15 X 5 = 75\n",
      "15 X 6 = 90\n",
      "15 X 7 = 105\n",
      "15 X 8 = 120\n",
      "15 X 9 = 135\n",
      "15 X 10 = 150\n",
      "15 X 11 = 165\n",
      "15 X 12 = 180\n",
      "15 X 13 = 195\n",
      "15 X 14 = 210\n",
      "15 X 15 = 225\n",
      "15 X 1 = 15\n",
      "15 X 2 = 30\n",
      "15 X 3 = 45\n",
      "15 X 4 = 60\n",
      "15 X 5 = 75\n",
      "15 X 6 = 90\n",
      "15 X 7 = 105\n",
      "15 X 8 = 120\n",
      "15 X 9 = 135\n",
      "15 X 10 = 150\n",
      "15 X 11 = 165\n",
      "15 X 12 = 180\n",
      "15 X 13 = 195\n",
      "15 X 14 = 210\n",
      "15 X 15 = 225\n"
     ]
    }
   ],
   "source": [
    "def table(a,n):\n",
    "    for i in range(1,n+1):\n",
    "        print(a,\"X\",i,\"=\",a*i)\n",
    "a=int(input(\"Enter upto num: \"))\n",
    "print(\"______________________\")\n",
    "for i in range(x):\n",
    "    if a<=5 and a>=1:\n",
    "        table(a,5)\n",
    "    elif a>=6 and a<=10:\n",
    "        table(a,10)\n",
    "    elif a>=11 and a<=15:\n",
    "        table(a,15)\n",
    "    elif a>=16 and a<=20:\n",
    "        table(a,20)\n",
    "    elif a>=21:\n",
    "        print(a,30)"
   ]
  },
  {
   "cell_type": "code",
   "execution_count": 57,
   "id": "13dc792f-e05a-4768-b9c6-3a7658b9d2b2",
   "metadata": {},
   "outputs": [
    {
     "name": "stdout",
     "output_type": "stream",
     "text": [
      "[[1. 1.]\n",
      " [1. 1.]]\n",
      "[[0. 0. 0.]\n",
      " [0. 0. 0.]\n",
      " [0. 0. 0.]]\n",
      "[[0.04074372 0.90881752]\n",
      " [0.27700028 0.20067075]]\n"
     ]
    }
   ],
   "source": [
    "import numpy as np\n",
    "a=np.array([[1,2,3],[4,5,6],[7,8,9]])\n",
    "b=np.array([[1,1,1],[2,2,2],[3,3,3]])\n",
    "d=np.ones([2,2])\n",
    "d1=np.zeros([3,3])\n",
    "d2=np.random.random([2,2])\n",
    "print(d)\n",
    "print(d1)\n",
    "print(d2)"
   ]
  },
  {
   "cell_type": "code",
   "execution_count": 61,
   "id": "41f4a2e7-7794-4de1-9c3b-a14eb2398baa",
   "metadata": {},
   "outputs": [
    {
     "name": "stdout",
     "output_type": "stream",
     "text": [
      "[[3 3]\n",
      " [3 3]]\n"
     ]
    }
   ],
   "source": [
    "import numpy as np\n",
    "x=np.array([[1,1],[2,2]])\n",
    "y=np.array([[2,2],[1,1]])\n",
    "print(x+y)"
   ]
  },
  {
   "cell_type": "code",
   "execution_count": 65,
   "id": "843ea77b-b4fc-4d3b-812f-51e490c83df9",
   "metadata": {},
   "outputs": [
    {
     "name": "stdout",
     "output_type": "stream",
     "text": [
      "[[1 3 4]\n",
      " [5 6 7]\n",
      " [7 8 9]]\n",
      "[[1 4 3]\n",
      " [6 7 5]\n",
      " [9 7 8]]\n",
      "[1 3 4 5 6 7 7 8 9]\n"
     ]
    }
   ],
   "source": [
    "import numpy as np\n",
    "a=np.array([[1,4,3],[6,7,5],[9,7,8]])\n",
    "print(np.sort(a,axis=1))\n",
    "print(np.sort(a,axis=0))\n",
    "print(np.sort(a,axis=None))"
   ]
  },
  {
   "cell_type": "code",
   "execution_count": 71,
   "id": "2bd780a1-4b47-4871-baa4-576e8690de0f",
   "metadata": {},
   "outputs": [
    {
     "name": "stdout",
     "output_type": "stream",
     "text": [
      "2.5\n",
      "1.118033988749895\n",
      "10\n",
      "1\n",
      "4\n"
     ]
    }
   ],
   "source": [
    "import numpy as np\n",
    "a=np.array([1,3,4,2])\n",
    "print(a.mean())\n",
    "print(a.std())\n",
    "print(a.sum())\n",
    "print(a.min())\n",
    "print(a.max())"
   ]
  },
  {
   "cell_type": "code",
   "execution_count": 73,
   "id": "252647f3-6cac-4307-bd16-bc25c62ec618",
   "metadata": {},
   "outputs": [
    {
     "name": "stdout",
     "output_type": "stream",
     "text": [
      "0    1\n",
      "1    3\n",
      "2    2\n",
      "dtype: int64\n"
     ]
    }
   ],
   "source": [
    "import pandas as pd\n",
    "d=[1,3,2]\n",
    "s=pd.Series(d)\n",
    "print(s)"
   ]
  },
  {
   "cell_type": "code",
   "execution_count": 75,
   "id": "4c741c63-a0fa-46e7-b469-f9cecd995d57",
   "metadata": {},
   "outputs": [
    {
     "name": "stdout",
     "output_type": "stream",
     "text": [
      "    cars  passings\n",
      "0    BMW         3\n",
      "1  Volvo         4\n",
      "2   Ford         8\n"
     ]
    }
   ],
   "source": [
    "import pandas as pd\n",
    "mydata={\n",
    "'cars':['BMW','Volvo','Ford'],'passings':[3,4,8]\n",
    "}\n",
    "mycar=pd.DataFrame(mydata)\n",
    "print(mycar)"
   ]
  },
  {
   "cell_type": "code",
   "execution_count": null,
   "id": "59bfc454-1a9e-4560-96fe-6a6c6ff5aa0e",
   "metadata": {},
   "outputs": [],
   "source": []
  }
 ],
 "metadata": {
  "kernelspec": {
   "display_name": "Python 3 (ipykernel)",
   "language": "python",
   "name": "python3"
  },
  "language_info": {
   "codemirror_mode": {
    "name": "ipython",
    "version": 3
   },
   "file_extension": ".py",
   "mimetype": "text/x-python",
   "name": "python",
   "nbconvert_exporter": "python",
   "pygments_lexer": "ipython3",
   "version": "3.12.7"
  }
 },
 "nbformat": 4,
 "nbformat_minor": 5
}
