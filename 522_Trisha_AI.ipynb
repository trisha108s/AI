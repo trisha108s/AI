{
  "metadata": {
    "kernelspec": {
      "name": "python",
      "display_name": "Python (Pyodide)",
      "language": "python"
    },
    "language_info": {
      "codemirror_mode": {
        "name": "python",
        "version": 3
      },
      "file_extension": ".py",
      "mimetype": "text/x-python",
      "name": "python",
      "nbconvert_exporter": "python",
      "pygments_lexer": "ipython3",
      "version": "3.8"
    }
  },
  "nbformat_minor": 5,
  "nbformat": 4,
  "cells": [
    {
      "id": "3f1be104-51cd-4b32-bc98-ea36ac88cc46",
      "cell_type": "code",
      "source": "#Write a Python program that declares variables of different data types (e.g., string, integer, float,and boolean). Output the variables in a sentence format using print() and f-strings.\n\nname=\"Trisha\"\nage=21\nheight=5.2\nis_student=True\nprint(f\"My name is {name}, I am {age} years old, my height is {height} feet, and it is {is_student} that I am a student.\")",
      "metadata": {
        "trusted": true
      },
      "outputs": [
        {
          "name": "stdout",
          "output_type": "stream",
          "text": "My name is Trisha, I am 21 years old, my height is 5.2 feet, and it is True that I am a student.\n"
        }
      ],
      "execution_count": 1
    },
    {
      "id": "257934db-05b5-43fa-94a7-f22b75421e79",
      "cell_type": "code",
      "source": "#5.Write a Python program that takes an integer input and checks whether the number is positive,negative, or zero using conditional statements (if-else).\n\nn=5\nif n>0:\n    print(\"The number is positive.\")\nelif n<0:\n    print(\"The number is negative.\")\nelse:\n    print(\"The number is zero.\")",
      "metadata": {
        "trusted": true
      },
      "outputs": [
        {
          "name": "stdout",
          "output_type": "stream",
          "text": "The number is positive.\n"
        }
      ],
      "execution_count": 2
    },
    {
      "id": "d231e578-8354-43b3-ad85-4cbe46335dd5",
      "cell_type": "code",
      "source": "#6.Write a Python program that takes a number as input and prints the multiplication tablefor that number (from 1 to 10)\n\nn=5\nfor i in range(1,11):\n    print(n,\"x\",i,\"=\",n*i)",
      "metadata": {
        "trusted": true
      },
      "outputs": [
        {
          "name": "stdout",
          "output_type": "stream",
          "text": "5 x 1 = 5\n5 x 2 = 10\n5 x 3 = 15\n5 x 4 = 20\n5 x 5 = 25\n5 x 6 = 30\n5 x 7 = 35\n5 x 8 = 40\n5 x 9 = 45\n5 x 10 = 50\n"
        }
      ],
      "execution_count": 3
    },
    {
      "id": "27d6b290-eca1-4b82-9056-08921f36eaae",
      "cell_type": "code",
      "source": "fruits=[\"pomogranate\",\"pineapple\",\"cherry\",\"banana\",\"orange\"]\nfruits.append(\"fig\")\nfruits.remove(\"pineapple\")\nfruits[2]=\"grape\"\nfruits.sort()\nfruits.reverse()\nprint(fruits)",
      "metadata": {
        "trusted": true
      },
      "outputs": [
        {
          "name": "stdout",
          "output_type": "stream",
          "text": "['pomogranate', 'orange', 'grape', 'fig', 'cherry']\n"
        }
      ],
      "execution_count": 4
    },
    {
      "id": "391d53f5-51d2-4930-8382-408281e7ea70",
      "cell_type": "code",
      "source": "#8.Write a Python program that creates a tuple containing 5 numbers. Perform the given operations on the tuple\n\nnumbers=(1,2,3,4,5)\nnumbers+= (6,)\nprint(numbers)",
      "metadata": {
        "trusted": true
      },
      "outputs": [
        {
          "name": "stdout",
          "output_type": "stream",
          "text": "(1, 2, 3, 4, 5, 6)\n"
        }
      ],
      "execution_count": 5
    },
    {
      "id": "6107cafe-c005-4104-8812-10cf1a5b1e78",
      "cell_type": "code",
      "source": "#9.Create a dictionary that stores the names of 3 students as keys and their marks in mathematics as values. Perform the given operations.\n\nstudents={\"Tri\":75,\"Megh\":90,\"Shrey\":85}\nstudents[\"Shrey\"]=92\ndel students[\"Megh\"]\nstudents[\"Tri\"]=95\nprint(students)",
      "metadata": {
        "trusted": true
      },
      "outputs": [
        {
          "name": "stdout",
          "output_type": "stream",
          "text": "{'Tri': 95, 'Shrey': 92}\n"
        }
      ],
      "execution_count": 6
    },
    {
      "id": "eaacb837-a186-4e6a-972a-94f0c3bd3570",
      "cell_type": "code",
      "source": "#10.Create two sets of integers. Perform the given set operations\n\nset1={1,2,3,4,5}\nset2={4,5,6,7,8}\nset3=set1.union(set2)\nset4=set1.intersection(set2)\nset5=set1.difference(set2)\nprint(set3,set4,set5)",
      "metadata": {
        "trusted": true
      },
      "outputs": [
        {
          "name": "stdout",
          "output_type": "stream",
          "text": "{1, 2, 3, 4, 5, 6, 7, 8} {4, 5} {1, 2, 3}\n"
        }
      ],
      "execution_count": 7
    },
    {
      "id": "d54201f3-fb8e-46cf-8183-d8dde24c0d8f",
      "cell_type": "code",
      "source": "#11.Write a Python function called find_largest() that takes a list of numbers as input and returns the largest number from the list. Test the function with a sample list\n\ndef find_largest(nums):return max(nums)\nnums=[3,5,7,2,8]\nprint(find_largest(nums))",
      "metadata": {
        "trusted": true
      },
      "outputs": [
        {
          "name": "stdout",
          "output_type": "stream",
          "text": "8\n"
        }
      ],
      "execution_count": 8
    },
    {
      "id": "2e0ea8a3-8707-44cd-b5d2-247599e7b615",
      "cell_type": "code",
      "source": "#12.Use list comprehension to create a list of squares of all even numbers between 1 and 20\n\nsquares=[x**2 for x in range(1,21) if x%2==0]\nprint(squares)",
      "metadata": {
        "trusted": true
      },
      "outputs": [
        {
          "name": "stdout",
          "output_type": "stream",
          "text": "[4, 16, 36, 64, 100, 144, 196, 256, 324, 400]\n"
        }
      ],
      "execution_count": 9
    },
    {
      "id": "8ca2d2d0-c853-4f6e-9936-9e2419c8fe5b",
      "cell_type": "code",
      "source": "#13. Write a Python script that uses a lambda function to calculate the product of two numbers provided by the user\n\nproduct=lambda x,y:x*y\nx=20\ny=30\nprint(product(x,y))",
      "metadata": {
        "trusted": true
      },
      "outputs": [
        {
          "name": "stdout",
          "output_type": "stream",
          "text": "600\n"
        }
      ],
      "execution_count": 11
    },
    {
      "id": "37ed3a66-a35e-4c77-98a8-d98303a69213",
      "cell_type": "code",
      "source": "#14. Write a Python program to create a one-dimensional, two-dimensional, and three-dimensional NumPy array.Print the shape and dimensions of each array\n\nimport numpy as np\narr1=np.array([1,2,3,4,5])\narr2=np.array([[1,2,3],[4,5,6]])\narr3=np.array([[[1,2],[3,4]],[[5,6],[7,8]]])\nprint(arr1.shape,arr1.ndim)\nprint(arr2.shape,arr2.ndim)\nprint(arr3.shape,arr3.ndim)",
      "metadata": {
        "trusted": true
      },
      "outputs": [
        {
          "name": "stdout",
          "output_type": "stream",
          "text": "(5,) 1\n(2, 3) 2\n(2, 2, 2) 3\n"
        }
      ],
      "execution_count": 12
    },
    {
      "id": "beda12cd-6e06-46f8-8033-05ba09a3a770",
      "cell_type": "code",
      "source": "#15. Write a Python program to create a 5x5 NumPy array of random integers and Perform array indexing as given\n\nimport numpy as np\narr=np.random.randint(1,100,(5,5))\nprint(arr)\nprint(arr[2,3])\nprint(arr[1:4,1:4])",
      "metadata": {
        "trusted": true
      },
      "outputs": [
        {
          "name": "stdout",
          "output_type": "stream",
          "text": "[[73 86 14 15 92]\n [26 10 89 21 41]\n [77 49  9 29 85]\n [84 87 59 85 51]\n [53 11 61 55 90]]\n29\n[[10 89 21]\n [49  9 29]\n [87 59 85]]\n"
        }
      ],
      "execution_count": 13
    },
    {
      "id": "01eb74dd-f1c0-4bc5-a16a-22a8fc0b6f4f",
      "cell_type": "code",
      "source": "#16. create a NumPy array of shape (4, 4) containing numbers from 1 to 16. Use slicing to extract for the given conditions\n\nimport numpy as np\narr=np.arange(1,17).reshape(4,4)\nprint(arr)\nprint(arr[1:3,1:3])\nprint(arr[:2,:2])",
      "metadata": {
        "trusted": true
      },
      "outputs": [
        {
          "name": "stdout",
          "output_type": "stream",
          "text": "[[ 1  2  3  4]\n [ 5  6  7  8]\n [ 9 10 11 12]\n [13 14 15 16]]\n[[ 6  7]\n [10 11]]\n[[1 2]\n [5 6]]\n"
        }
      ],
      "execution_count": 14
    },
    {
      "id": "96d33a62-6a72-431b-86f1-ac6e13749d74",
      "cell_type": "code",
      "source": "#17. Write a Python program that creates a 2D array of shape (6, 2) using np.arange() and then reshapes it into a 3D array of shape (2, 3, 2). Flatten the reshaped array and print the result.\n\nimport numpy as np\narr=np.arange(12).reshape(6,2)\narr_3d=arr.reshape(2,3,2)\narr_flat=arr_3d.flatten()\nprint(arr_flat)",
      "metadata": {
        "trusted": true
      },
      "outputs": [
        {
          "name": "stdout",
          "output_type": "stream",
          "text": "[ 0  1  2  3  4  5  6  7  8  9 10 11]\n"
        }
      ],
      "execution_count": 15
    },
    {
      "id": "d9a5874d-bcb2-4653-a3b5-4f7b23e488ec",
      "cell_type": "code",
      "source": "#18. Write a Python program to demonstrate broadcasting. Create an array of shape (3, 3) and add a one-dimensional array of shape (1, 3) to it using broadcasting.\n\nimport numpy as np\narr1=np.array([[1,2,3],[4,5,6],[7,8,9]])\narr2=np.array([1,1,1])\nresult=arr1+arr2\nprint(result)",
      "metadata": {
        "trusted": true
      },
      "outputs": [
        {
          "name": "stdout",
          "output_type": "stream",
          "text": "[[ 2  3  4]\n [ 5  6  7]\n [ 8  9 10]]\n"
        }
      ],
      "execution_count": 16
    },
    {
      "id": "be45fc98-9839-4dfa-ab05-091faa6ace72",
      "cell_type": "code",
      "source": "\"\"\"19. Create two NumPy arrays of the same shape, A and B. Perform the following arithmetic operations:\nElement-wise addition.\nElement-wise subtraction.\nElement-wise multiplication.\nElement-wise division\"\"\"\n\nimport numpy as np\nA=np.array([[1,2,3],[4,5,6],[7,8,9]])\nB=np.array([[9,8,7],[6,5,4],[3,2,1]])\nadd=A+B\nsub=A-B\nmul=A*B\ndiv=A/B\nprint(add)\nprint(sub)\nprint(mul)\nprint(div)",
      "metadata": {
        "trusted": true
      },
      "outputs": [
        {
          "name": "stdout",
          "output_type": "stream",
          "text": "[[10 10 10]\n [10 10 10]\n [10 10 10]]\n[[-8 -6 -4]\n [-2  0  2]\n [ 4  6  8]]\n[[ 9 16 21]\n [24 25 24]\n [21 16  9]]\n[[0.11111111 0.25       0.42857143]\n [0.66666667 1.         1.5       ]\n [2.33333333 4.         9.        ]]\n"
        }
      ],
      "execution_count": 17
    },
    {
      "id": "d6fc2aa7-1f36-4299-9590-faa0d5d0172c",
      "cell_type": "code",
      "source": "\"\"\"20. Create a Pandas DataFrame with the given Name and marks of 3 courses:\nAdd a new column named 'Total' that represents the sum of all the courses. Add 'Grade' based\non the values of the 'Total'. Print the updated DataFrame with the new 'Total' and 'Grade'\ncolumn\"\"\"\n\nimport pandas as pd\ndata={'Name': ['Tri','Gowthu','Prathi'],'Maths':[85,90,78],'Science':[88,92,85],'English':[80,85,88]}\ndf=pd.DataFrame(data)\ndf['Total']=df['Maths']+df['Science']+df['English']\ndf['Grade']=df['Total'].apply(lambda x: 'A' if x>=250 else ('B' if x>=200 else 'C'))\nprint(df)",
      "metadata": {
        "trusted": true
      },
      "outputs": [
        {
          "name": "stdout",
          "output_type": "stream",
          "text": "     Name  Maths  Science  English  Total Grade\n0     Tri     85       88       80    253     A\n1  Gowthu     90       92       85    267     A\n2  Prathi     78       85       88    251     A\n"
        }
      ],
      "execution_count": 18
    },
    {
      "id": "5f40dd8f-874f-42a6-b2d2-44f5655883f7",
      "cell_type": "code",
      "source": "",
      "metadata": {
        "trusted": true
      },
      "outputs": [],
      "execution_count": null
    }
  ]
}