{
 "cells": [
  {
   "cell_type": "code",
   "execution_count": 1,
   "id": "3f8ffc45-45dc-439a-ac75-c39dda31d0f4",
   "metadata": {},
   "outputs": [
    {
     "name": "stdout",
     "output_type": "stream",
     "text": [
      "Solution not improved!\n",
      "Best solution found: x=6.308187653695306, value=-14.560480859452667\n"
     ]
    }
   ],
   "source": [
    "import random\n",
    "def objective(x):\n",
    "    return -x**2 + 4*x\n",
    " \n",
    "def hill_climbing():\n",
    "    current_solution = random.uniform(-10, 10)\n",
    "    current_value = objective(current_solution)\n",
    "    for _ in range(100):\n",
    "        if current_value == 4:\n",
    "            print(\"Goal state reached!\")\n",
    "            return current_solution, current_value\n",
    "        neighbor = current_solution + random.uniform(-0.1, 0.1)\n",
    "        neighbor_value = objective(neighbor)\n",
    "        if neighbor_value > current_value:\n",
    "            current_solution = neighbor\n",
    "            current_value = neighbor_value\n",
    "        else:\n",
    "            print(\"Solution not improved!\")\n",
    "            break\n",
    "    return current_solution, current_value\n",
    " \n",
    "solution, value = hill_climbing()\n",
    "print(f\"Best solution found: x={solution}, value={value}\")"
   ]
  },
  {
   "cell_type": "code",
   "execution_count": null,
   "id": "0f8d6ac7-a2e9-4d6b-b4d8-c1c215c34b32",
   "metadata": {},
   "outputs": [],
   "source": []
  }
 ],
 "metadata": {
  "kernelspec": {
   "display_name": "Python 3 (ipykernel)",
   "language": "python",
   "name": "python3"
  },
  "language_info": {
   "codemirror_mode": {
    "name": "ipython",
    "version": 3
   },
   "file_extension": ".py",
   "mimetype": "text/x-python",
   "name": "python",
   "nbconvert_exporter": "python",
   "pygments_lexer": "ipython3",
   "version": "3.12.7"
  }
 },
 "nbformat": 4,
 "nbformat_minor": 5
}
